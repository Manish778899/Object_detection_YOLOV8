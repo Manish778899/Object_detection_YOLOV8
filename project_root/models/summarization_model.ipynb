{
  "cells": [
    {
      "cell_type": "markdown",
      "metadata": {
        "id": "Y_1bxWdmhoPn"
      },
      "source": [
        "<h1>Generating Summary<h1/>\n"
      ]
    },
    {
      "cell_type": "code",
      "execution_count": 91,
      "metadata": {
        "colab": {
          "base_uri": "https://localhost:8080/"
        },
        "id": "vL_XMA5zVuIB",
        "outputId": "958a99fd-a283-4996-b6dc-3964df2ec6fc"
      },
      "outputs": [
        {
          "name": "stdout",
          "output_type": "stream",
          "text": [
            "Requirement already satisfied: transformers in /usr/local/lib/python3.10/dist-packages (4.42.4)\n",
            "Requirement already satisfied: filelock in /usr/local/lib/python3.10/dist-packages (from transformers) (3.15.4)\n",
            "Requirement already satisfied: huggingface-hub<1.0,>=0.23.2 in /usr/local/lib/python3.10/dist-packages (from transformers) (0.23.5)\n",
            "Requirement already satisfied: numpy<2.0,>=1.17 in /usr/local/lib/python3.10/dist-packages (from transformers) (1.26.4)\n",
            "Requirement already satisfied: packaging>=20.0 in /usr/local/lib/python3.10/dist-packages (from transformers) (24.1)\n",
            "Requirement already satisfied: pyyaml>=5.1 in /usr/local/lib/python3.10/dist-packages (from transformers) (6.0.2)\n",
            "Requirement already satisfied: regex!=2019.12.17 in /usr/local/lib/python3.10/dist-packages (from transformers) (2024.5.15)\n",
            "Requirement already satisfied: requests in /usr/local/lib/python3.10/dist-packages (from transformers) (2.32.3)\n",
            "Requirement already satisfied: safetensors>=0.4.1 in /usr/local/lib/python3.10/dist-packages (from transformers) (0.4.4)\n",
            "Requirement already satisfied: tokenizers<0.20,>=0.19 in /usr/local/lib/python3.10/dist-packages (from transformers) (0.19.1)\n",
            "Requirement already satisfied: tqdm>=4.27 in /usr/local/lib/python3.10/dist-packages (from transformers) (4.66.5)\n",
            "Requirement already satisfied: fsspec>=2023.5.0 in /usr/local/lib/python3.10/dist-packages (from huggingface-hub<1.0,>=0.23.2->transformers) (2024.6.1)\n",
            "Requirement already satisfied: typing-extensions>=3.7.4.3 in /usr/local/lib/python3.10/dist-packages (from huggingface-hub<1.0,>=0.23.2->transformers) (4.12.2)\n",
            "Requirement already satisfied: charset-normalizer<4,>=2 in /usr/local/lib/python3.10/dist-packages (from requests->transformers) (3.3.2)\n",
            "Requirement already satisfied: idna<4,>=2.5 in /usr/local/lib/python3.10/dist-packages (from requests->transformers) (3.7)\n",
            "Requirement already satisfied: urllib3<3,>=1.21.1 in /usr/local/lib/python3.10/dist-packages (from requests->transformers) (2.0.7)\n",
            "Requirement already satisfied: certifi>=2017.4.17 in /usr/local/lib/python3.10/dist-packages (from requests->transformers) (2024.7.4)\n"
          ]
        }
      ],
      "source": [
        "!pip install transformers\n"
      ]
    },
    {
      "cell_type": "code",
      "execution_count": 114,
      "metadata": {
        "colab": {
          "base_uri": "https://localhost:8080/"
        },
        "id": "CvdwId2XVwiK",
        "outputId": "f0ac2c68-480d-43ca-d740-f6f101ea3dbd"
      },
      "outputs": [
        {
          "name": "stderr",
          "output_type": "stream",
          "text": [
            "No model was supplied, defaulted to sshleifer/distilbart-cnn-12-6 and revision a4f8f3e (https://huggingface.co/sshleifer/distilbart-cnn-12-6).\n",
            "Using a pipeline without specifying a model name and revision in production is not recommended.\n",
            "Hardware accelerator e.g. GPU is available in the environment, but no `device` argument is passed to the `Pipeline` object. Model will be on CPU.\n"
          ]
        },
        {
          "name": "stdout",
          "output_type": "stream",
          "text": [
            "Object summaries generated and stored in project_root/data/summarization/summarized_object_attributes.json.\n"
          ]
        }
      ],
      "source": [
        "from transformers import pipeline\n",
        "import json\n",
        "import os\n",
        "\n",
        "# Initialize summarization model\n",
        "summarizer = pipeline(\"summarization\")\n",
        "\n",
        "# Define directories\n",
        "text_extraction_dir = 'project_root/data/text_extraction/'  # Directory where text extraction results are saved\n",
        "summarization_dir = 'project_root/data/summarization/'       # Directory to save summaries\n",
        "os.makedirs(summarization_dir, exist_ok=True)\n",
        "\n",
        "# Load extracted text data\n",
        "extracted_text_metadata_path = os.path.join(text_extraction_dir, \"extracted_text_metadata.json\")\n",
        "with open(extracted_text_metadata_path, 'r') as f:\n",
        "    extracted_text_data = json.load(f)\n",
        "\n",
        "# Generate summaries\n",
        "summaries = []\n",
        "for obj_data in extracted_text_data:\n",
        "    obj_id = obj_data['object_id']\n",
        "    text = obj_data['text']\n",
        "\n",
        "    if text.strip():  # Check if text is not empty\n",
        "        summary = summarizer(text, max_length=150, min_length=50, do_sample=False)[0]['summary_text']\n",
        "    else:\n",
        "        summary = \"No text extracted.\"\n",
        "\n",
        "    summaries.append({\n",
        "        \"object_id\": obj_id,\n",
        "        \"summary\": summary\n",
        "    })\n",
        "\n",
        "# Save the summaries as JSON\n",
        "summarization_metadata_path = os.path.join(summarization_dir, \"summarized_object_attributes.json\")\n",
        "with open(summarization_metadata_path, 'w') as f:\n",
        "    json.dump(summaries, f, indent=4)\n",
        "\n",
        "print(f\"Object summaries generated and stored in {summarization_metadata_path}.\")"
      ]
    }
  ],
  "metadata": {
    "accelerator": "GPU",
    "colab": {
      "gpuType": "T4",
      "provenance": []
    },
    "kernelspec": {
      "display_name": "Python 3",
      "name": "python3"
    },
    "language_info": {
      "name": "python"
    }
  },
  "nbformat": 4,
  "nbformat_minor": 0
}
